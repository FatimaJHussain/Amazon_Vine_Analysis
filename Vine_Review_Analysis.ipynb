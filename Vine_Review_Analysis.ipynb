{
  "nbformat": 4,
  "nbformat_minor": 0,
  "metadata": {
    "colab": {
      "name": "Vine_Review_Analysis.ipynb",
      "provenance": [],
      "include_colab_link": true
    },
    "kernelspec": {
      "display_name": "PythonData",
      "language": "python",
      "name": "pythondata"
    },
    "language_info": {
      "codemirror_mode": {
        "name": "ipython",
        "version": 3
      },
      "file_extension": ".py",
      "mimetype": "text/x-python",
      "name": "python",
      "nbconvert_exporter": "python",
      "pygments_lexer": "ipython3",
      "version": "3.7.7"
    },
    "nteract": {
      "version": "0.12.3"
    },
    "accelerator": "GPU"
  },
  "cells": [
    {
      "cell_type": "markdown",
      "metadata": {
        "id": "view-in-github",
        "colab_type": "text"
      },
      "source": [
        "<a href=\"https://colab.research.google.com/github/FatimaJHussain/Amazon_Vine_Analysis/blob/main/Vine_Review_Analysis.ipynb\" target=\"_parent\"><img src=\"https://colab.research.google.com/assets/colab-badge.svg\" alt=\"Open In Colab\"/></a>"
      ]
    },
    {
      "cell_type": "code",
      "metadata": {
        "id": "V58rxea0HqSa",
        "colab": {
          "base_uri": "https://localhost:8080/"
        },
        "outputId": "09cb6a8f-6a42-4694-be3d-bd7bcd90d7f8"
      },
      "source": [
        "import os\n",
        "# Find the latest version of spark 2.0  from http://www-us.apache.org/dist/spark/ and enter as the spark version\n",
        "# For example:\n",
        "# spark_version = 'spark-3.0.0'\n",
        "spark_version = 'spark-3.1.1'\n",
        "os.environ['SPARK_VERSION']=spark_version\n",
        "\n",
        "# Install Spark and Java\n",
        "!apt-get update\n",
        "!apt-get install openjdk-11-jdk-headless -qq > /dev/null\n",
        "!wget -q http://www-us.apache.org/dist/spark/$SPARK_VERSION/$SPARK_VERSION-bin-hadoop2.7.tgz\n",
        "!tar xf $SPARK_VERSION-bin-hadoop2.7.tgz\n",
        "!pip install -q findspark\n",
        "\n",
        "# Set Environment Variables\n",
        "import os\n",
        "os.environ[\"JAVA_HOME\"] = \"/usr/lib/jvm/java-11-openjdk-amd64\"\n",
        "os.environ[\"SPARK_HOME\"] = f\"/content/{spark_version}-bin-hadoop2.7\"\n",
        "\n",
        "# Start a SparkSession\n",
        "import findspark\n",
        "findspark.init()"
      ],
      "execution_count": 1,
      "outputs": [
        {
          "output_type": "stream",
          "text": [
            "\r0% [Working]\r            \rGet:1 http://security.ubuntu.com/ubuntu bionic-security InRelease [88.7 kB]\n",
            "\r0% [Connecting to archive.ubuntu.com (91.189.88.152)] [1 InRelease 14.2 kB/88.7\r0% [Connecting to archive.ubuntu.com (91.189.88.152)] [Connecting to cloud.r-pr\r0% [1 InRelease gpgv 88.7 kB] [Connecting to archive.ubuntu.com (91.189.88.152)\r                                                                               \rGet:2 https://cloud.r-project.org/bin/linux/ubuntu bionic-cran40/ InRelease [3,626 B]\n",
            "\r0% [1 InRelease gpgv 88.7 kB] [Waiting for headers] [2 InRelease 3,626 B/3,626 \r0% [1 InRelease gpgv 88.7 kB] [Waiting for headers] [Waiting for headers] [Wait\r                                                                               \rIgn:3 https://developer.download.nvidia.com/compute/cuda/repos/ubuntu1804/x86_64  InRelease\n",
            "\r0% [1 InRelease gpgv 88.7 kB] [Waiting for headers] [Waiting for headers] [Wait\r                                                                               \rGet:4 http://ppa.launchpad.net/c2d4u.team/c2d4u4.0+/ubuntu bionic InRelease [15.9 kB]\n",
            "\r0% [1 InRelease gpgv 88.7 kB] [Waiting for headers] [4 InRelease 2,572 B/15.9 k\r                                                                               \rHit:5 http://archive.ubuntu.com/ubuntu bionic InRelease\n",
            "\r0% [1 InRelease gpgv 88.7 kB] [4 InRelease 5,468 B/15.9 kB 34%] [Waiting for he\r                                                                               \rIgn:6 https://developer.download.nvidia.com/compute/machine-learning/repos/ubuntu1804/x86_64  InRelease\n",
            "Get:7 https://developer.download.nvidia.com/compute/cuda/repos/ubuntu1804/x86_64  Release [697 B]\n",
            "Hit:8 https://developer.download.nvidia.com/compute/machine-learning/repos/ubuntu1804/x86_64  Release\n",
            "Get:9 http://archive.ubuntu.com/ubuntu bionic-updates InRelease [88.7 kB]\n",
            "Get:10 https://developer.download.nvidia.com/compute/cuda/repos/ubuntu1804/x86_64  Release.gpg [836 B]\n",
            "Get:11 http://security.ubuntu.com/ubuntu bionic-security/multiverse amd64 Packages [24.5 kB]\n",
            "Get:12 http://security.ubuntu.com/ubuntu bionic-security/main amd64 Packages [2,112 kB]\n",
            "Hit:13 http://ppa.launchpad.net/cran/libgit2/ubuntu bionic InRelease\n",
            "Get:14 http://security.ubuntu.com/ubuntu bionic-security/restricted amd64 Packages [395 kB]\n",
            "Get:15 http://security.ubuntu.com/ubuntu bionic-security/universe amd64 Packages [1,408 kB]\n",
            "Get:16 http://archive.ubuntu.com/ubuntu bionic-backports InRelease [74.6 kB]\n",
            "Get:17 http://ppa.launchpad.net/deadsnakes/ppa/ubuntu bionic InRelease [15.9 kB]\n",
            "Hit:18 http://ppa.launchpad.net/graphics-drivers/ppa/ubuntu bionic InRelease\n",
            "Get:20 http://ppa.launchpad.net/c2d4u.team/c2d4u4.0+/ubuntu bionic/main Sources [1,751 kB]\n",
            "Ign:21 https://developer.download.nvidia.com/compute/cuda/repos/ubuntu1804/x86_64  Packages\n",
            "Get:21 https://developer.download.nvidia.com/compute/cuda/repos/ubuntu1804/x86_64  Packages [696 kB]\n",
            "Get:22 http://archive.ubuntu.com/ubuntu bionic-updates/main amd64 Packages [2,542 kB]\n",
            "Get:23 http://ppa.launchpad.net/c2d4u.team/c2d4u4.0+/ubuntu bionic/main amd64 Packages [896 kB]\n",
            "Get:24 http://archive.ubuntu.com/ubuntu bionic-updates/restricted amd64 Packages [425 kB]\n",
            "Get:25 http://archive.ubuntu.com/ubuntu bionic-updates/multiverse amd64 Packages [31.4 kB]\n",
            "Get:26 http://archive.ubuntu.com/ubuntu bionic-updates/universe amd64 Packages [2,179 kB]\n",
            "Get:27 http://ppa.launchpad.net/deadsnakes/ppa/ubuntu bionic/main amd64 Packages [39.5 kB]\n",
            "Fetched 12.8 MB in 3s (4,904 kB/s)\n",
            "Reading package lists... Done\n"
          ],
          "name": "stdout"
        }
      ]
    },
    {
      "cell_type": "code",
      "metadata": {
        "id": "_xKwTpATHqSe",
        "colab": {
          "base_uri": "https://localhost:8080/"
        },
        "outputId": "36196c0e-ed51-4ad2-b490-f2169685dbed"
      },
      "source": [
        "# Download the Postgres driver that will allow Spark to interact with Postgres.\n",
        "!wget https://jdbc.postgresql.org/download/postgresql-42.2.16.jar"
      ],
      "execution_count": 2,
      "outputs": [
        {
          "output_type": "stream",
          "text": [
            "--2021-04-18 01:14:54--  https://jdbc.postgresql.org/download/postgresql-42.2.16.jar\n",
            "Resolving jdbc.postgresql.org (jdbc.postgresql.org)... 72.32.157.228, 2001:4800:3e1:1::228\n",
            "Connecting to jdbc.postgresql.org (jdbc.postgresql.org)|72.32.157.228|:443... connected.\n",
            "HTTP request sent, awaiting response... 200 OK\n",
            "Length: 1002883 (979K) [application/java-archive]\n",
            "Saving to: ‘postgresql-42.2.16.jar’\n",
            "\n",
            "postgresql-42.2.16. 100%[===================>] 979.38K  5.72MB/s    in 0.2s    \n",
            "\n",
            "2021-04-18 01:14:54 (5.72 MB/s) - ‘postgresql-42.2.16.jar’ saved [1002883/1002883]\n",
            "\n"
          ],
          "name": "stdout"
        }
      ]
    },
    {
      "cell_type": "code",
      "metadata": {
        "id": "MMqDAjVS0KN9"
      },
      "source": [
        "from pyspark.sql import SparkSession\n",
        "spark = SparkSession.builder.appName(\"BigData-Challenge\").config(\"spark.driver.extraClassPath\",\"/content/postgresql-42.2.16.jar\").getOrCreate()"
      ],
      "execution_count": 3,
      "outputs": []
    },
    {
      "cell_type": "markdown",
      "metadata": {
        "id": "cyBsySGuY-9V"
      },
      "source": [
        "### Load Amazon Data into Spark DataFrame"
      ]
    },
    {
      "cell_type": "code",
      "metadata": {
        "id": "CtCmBhQJY-9Z",
        "colab": {
          "base_uri": "https://localhost:8080/"
        },
        "outputId": "b7abd87f-ecd0-4f24-d124-824815dc97d1"
      },
      "source": [
        "from pyspark import SparkFiles\n",
        "url = \"https://uftchallenge16.s3.us-east-2.amazonaws.com/amazon_reviews_us_Wireless_v1_00.tsv.gz\"\n",
        "spark.sparkContext.addFile(url)\n",
        "df = spark.read.option(\"encoding\", \"UTF-8\").csv(SparkFiles.get(\"amazon_reviews_us_Wireless_v1_00.tsv.gz\"), sep=\"\\t\", header=True, inferSchema=True)\n",
        "df.show()"
      ],
      "execution_count": 4,
      "outputs": [
        {
          "output_type": "stream",
          "text": [
            "+-----------+-----------+--------------+----------+--------------+--------------------+----------------+-----------+-------------+-----------+----+-----------------+--------------------+--------------------+-----------+\n",
            "|marketplace|customer_id|     review_id|product_id|product_parent|       product_title|product_category|star_rating|helpful_votes|total_votes|vine|verified_purchase|     review_headline|         review_body|review_date|\n",
            "+-----------+-----------+--------------+----------+--------------+--------------------+----------------+-----------+-------------+-----------+----+-----------------+--------------------+--------------------+-----------+\n",
            "|         US|   16414143|R3W4P9UBGNGH1U|B00YL0EKWE|     852431543|LG G4 Case Hard T...|        Wireless|          2|            1|          3|   N|                Y|Looks good, funct...|2 issues  -  Once...| 2015-08-31|\n",
            "|         US|   50800750|R15V54KBMTQWAY|B00XK95RPQ|     516894650|Selfie Stick Fibl...|        Wireless|          4|            0|          0|   N|                N| A fun little gadget|I’m embarrassed t...| 2015-08-31|\n",
            "|         US|   15184378| RY8I449HNXSVF|B00SXRXUKO|     984297154|Tribe AB40 Water ...|        Wireless|          5|            0|          0|   N|                Y|          Five Stars|  Fits iPhone 6 well| 2015-08-31|\n",
            "|         US|   10203548|R18TLJYCKJFLSR|B009V5X1CE|     279912704|RAVPower® Element...|        Wireless|          5|            0|          0|   N|                Y|       Great charger|Great charger.  I...| 2015-08-31|\n",
            "|         US|     488280|R1NK26SWS53B8Q|B00D93OVF0|     662791300|Fosmon Micro USB ...|        Wireless|          5|            0|          0|   N|                Y|          Five Stars|Great for the pri...| 2015-08-31|\n",
            "|         US|   13334021|R11LOHEDYJALTN|B00XVGJMDQ|     421688488|iPhone 6 Case, Vo...|        Wireless|          5|            0|          0|   N|                Y|          Five Stars|Great Case, bette...| 2015-08-31|\n",
            "|         US|   27520697|R3ALQVQB2P9LA7|B00KQW1X1C|     554285554|Nokia Lumia 630 R...|        Wireless|          4|            0|          0|   N|                Y|          Four Stars|Easy to set up an...| 2015-08-31|\n",
            "|         US|   48086021|R3MWLXLNO21PDQ|B00IP1MQNK|     488006702|Lumsing 10400mah ...|        Wireless|          5|            0|          0|   N|                Y|          Five Stars|         Works great| 2015-08-31|\n",
            "|         US|   12738196|R2L15IS24CX0LI|B00HVORET8|     389677711|iPhone 5S Battery...|        Wireless|          5|            0|          0|   N|                Y|      So far so good|So far so good. I...| 2015-08-31|\n",
            "|         US|   15867807|R1DJ8976WPWVZU|B00HX3G6J6|     299654876|HTC One M8 Screen...|        Wireless|          3|            0|          0|   N|                Y|seems durable but...|seems durable but...| 2015-08-31|\n",
            "|         US|    1972249|R3MRWNNR8CBTB7|B00U4NATNQ|     577878727|S6 Case - Bear Mo...|        Wireless|          5|            0|          0|   N|                Y|Super thin, light...|Super thin, light...| 2015-08-31|\n",
            "|         US|   10956619|R1DS6DKTUXAQK3|B00SZEFDH8|     654620704|BLU Studio X, Unl...|        Wireless|          5|            0|          0|   N|                Y|          Five Stars|As good as the Sa...| 2015-08-31|\n",
            "|         US|   14805911| RWJM5E0TWUJD2|B00JRJUL9U|     391166958|EZOPower 5-Port U...|        Wireless|          5|            0|          0|   N|                Y|            EZOPower|I received this o...| 2015-08-31|\n",
            "|         US|   15611116|R1XTJKDYNCRGAC|B00KQ4T0HE|     481551630|iPhone 6S Case &i...|        Wireless|          1|            0|          0|   N|                Y|Very cheap case. ...|Very cheap case. ...| 2015-08-31|\n",
            "|         US|   39298603|R2UZL3DPWEU1XW|B00M0YWKPM|     685107474| iPhone 6s Plus Case|        Wireless|          5|            0|          0|   N|                Y|          Five Stars|       son loves it.| 2015-08-31|\n",
            "|         US|   17552454|R2EZXET9KBFFU3|B00KDZEE68|     148320945|zBoost ZB575-A TR...|        Wireless|          1|            0|          0|   N|                Y|            One Star|you have to turn ...| 2015-08-31|\n",
            "|         US|   12218556|R26VY1L1FD3LPU|B00BJN45GM|      47788188|OtterBox Defender...|        Wireless|          5|            0|          0|   N|                Y|          Five Stars|  Awesome, thank you| 2015-08-31|\n",
            "|         US|   21872923|R2SSA4NSFCV18T|B00SA86SXW|     748759272|Aduro PowerUP 30W...|        Wireless|          5|            0|          0|   N|                N|          Five Stars|         nice, smart| 2015-08-31|\n",
            "|         US|   16264332|R1G6333JHJNEUQ|B00Q3I68TU|     974085141|LilGadgets Connec...|        Wireless|          5|            0|          0|   N|                Y|Great headphones ...|We love these hea...| 2015-08-31|\n",
            "|         US|    6042304|R2DRG0UZXJQ0PE|B00TN4J1TA|     716174627|Anker Aluminum Mu...|        Wireless|          5|            0|          0|   N|                Y|          Five Stars|This is well wort...| 2015-08-31|\n",
            "+-----------+-----------+--------------+----------+--------------+--------------------+----------------+-----------+-------------+-----------+----+-----------------+--------------------+--------------------+-----------+\n",
            "only showing top 20 rows\n",
            "\n"
          ],
          "name": "stdout"
        }
      ]
    },
    {
      "cell_type": "markdown",
      "metadata": {
        "id": "2yUSe55VY-9t"
      },
      "source": [
        "### Create DataFrames to match tables"
      ]
    },
    {
      "cell_type": "code",
      "metadata": {
        "id": "C8REmY1aY-9u",
        "colab": {
          "base_uri": "https://localhost:8080/"
        },
        "outputId": "d24a559e-b290-4bda-aaa6-aed15bdc4c6e"
      },
      "source": [
        "from pyspark.sql.functions import to_date\n",
        "# Read in the Review dataset as a DataFrame.    \n",
        "from pyspark.sql.types import IntegerType\n",
        "\n",
        "df=df.withColumn(\"customer_id\", df[\"customer_id\"].cast(IntegerType()))\n",
        "df=df.withColumn(\"product_parent\", df[\"product_parent\"].cast(IntegerType()))\n",
        "df=df.withColumn(\"star_rating\", df[\"star_rating\"].cast(IntegerType()))\n",
        "df=df.withColumn(\"helpful_votes\", df[\"helpful_votes\"].cast(IntegerType()))\n",
        "df=df.withColumn(\"total_votes\", df[\"total_votes\"].cast(IntegerType()))\n",
        "df.show()"
      ],
      "execution_count": 5,
      "outputs": [
        {
          "output_type": "stream",
          "text": [
            "+-----------+-----------+--------------+----------+--------------+--------------------+----------------+-----------+-------------+-----------+----+-----------------+--------------------+--------------------+-----------+\n",
            "|marketplace|customer_id|     review_id|product_id|product_parent|       product_title|product_category|star_rating|helpful_votes|total_votes|vine|verified_purchase|     review_headline|         review_body|review_date|\n",
            "+-----------+-----------+--------------+----------+--------------+--------------------+----------------+-----------+-------------+-----------+----+-----------------+--------------------+--------------------+-----------+\n",
            "|         US|   16414143|R3W4P9UBGNGH1U|B00YL0EKWE|     852431543|LG G4 Case Hard T...|        Wireless|          2|            1|          3|   N|                Y|Looks good, funct...|2 issues  -  Once...| 2015-08-31|\n",
            "|         US|   50800750|R15V54KBMTQWAY|B00XK95RPQ|     516894650|Selfie Stick Fibl...|        Wireless|          4|            0|          0|   N|                N| A fun little gadget|I’m embarrassed t...| 2015-08-31|\n",
            "|         US|   15184378| RY8I449HNXSVF|B00SXRXUKO|     984297154|Tribe AB40 Water ...|        Wireless|          5|            0|          0|   N|                Y|          Five Stars|  Fits iPhone 6 well| 2015-08-31|\n",
            "|         US|   10203548|R18TLJYCKJFLSR|B009V5X1CE|     279912704|RAVPower® Element...|        Wireless|          5|            0|          0|   N|                Y|       Great charger|Great charger.  I...| 2015-08-31|\n",
            "|         US|     488280|R1NK26SWS53B8Q|B00D93OVF0|     662791300|Fosmon Micro USB ...|        Wireless|          5|            0|          0|   N|                Y|          Five Stars|Great for the pri...| 2015-08-31|\n",
            "|         US|   13334021|R11LOHEDYJALTN|B00XVGJMDQ|     421688488|iPhone 6 Case, Vo...|        Wireless|          5|            0|          0|   N|                Y|          Five Stars|Great Case, bette...| 2015-08-31|\n",
            "|         US|   27520697|R3ALQVQB2P9LA7|B00KQW1X1C|     554285554|Nokia Lumia 630 R...|        Wireless|          4|            0|          0|   N|                Y|          Four Stars|Easy to set up an...| 2015-08-31|\n",
            "|         US|   48086021|R3MWLXLNO21PDQ|B00IP1MQNK|     488006702|Lumsing 10400mah ...|        Wireless|          5|            0|          0|   N|                Y|          Five Stars|         Works great| 2015-08-31|\n",
            "|         US|   12738196|R2L15IS24CX0LI|B00HVORET8|     389677711|iPhone 5S Battery...|        Wireless|          5|            0|          0|   N|                Y|      So far so good|So far so good. I...| 2015-08-31|\n",
            "|         US|   15867807|R1DJ8976WPWVZU|B00HX3G6J6|     299654876|HTC One M8 Screen...|        Wireless|          3|            0|          0|   N|                Y|seems durable but...|seems durable but...| 2015-08-31|\n",
            "|         US|    1972249|R3MRWNNR8CBTB7|B00U4NATNQ|     577878727|S6 Case - Bear Mo...|        Wireless|          5|            0|          0|   N|                Y|Super thin, light...|Super thin, light...| 2015-08-31|\n",
            "|         US|   10956619|R1DS6DKTUXAQK3|B00SZEFDH8|     654620704|BLU Studio X, Unl...|        Wireless|          5|            0|          0|   N|                Y|          Five Stars|As good as the Sa...| 2015-08-31|\n",
            "|         US|   14805911| RWJM5E0TWUJD2|B00JRJUL9U|     391166958|EZOPower 5-Port U...|        Wireless|          5|            0|          0|   N|                Y|            EZOPower|I received this o...| 2015-08-31|\n",
            "|         US|   15611116|R1XTJKDYNCRGAC|B00KQ4T0HE|     481551630|iPhone 6S Case &i...|        Wireless|          1|            0|          0|   N|                Y|Very cheap case. ...|Very cheap case. ...| 2015-08-31|\n",
            "|         US|   39298603|R2UZL3DPWEU1XW|B00M0YWKPM|     685107474| iPhone 6s Plus Case|        Wireless|          5|            0|          0|   N|                Y|          Five Stars|       son loves it.| 2015-08-31|\n",
            "|         US|   17552454|R2EZXET9KBFFU3|B00KDZEE68|     148320945|zBoost ZB575-A TR...|        Wireless|          1|            0|          0|   N|                Y|            One Star|you have to turn ...| 2015-08-31|\n",
            "|         US|   12218556|R26VY1L1FD3LPU|B00BJN45GM|      47788188|OtterBox Defender...|        Wireless|          5|            0|          0|   N|                Y|          Five Stars|  Awesome, thank you| 2015-08-31|\n",
            "|         US|   21872923|R2SSA4NSFCV18T|B00SA86SXW|     748759272|Aduro PowerUP 30W...|        Wireless|          5|            0|          0|   N|                N|          Five Stars|         nice, smart| 2015-08-31|\n",
            "|         US|   16264332|R1G6333JHJNEUQ|B00Q3I68TU|     974085141|LilGadgets Connec...|        Wireless|          5|            0|          0|   N|                Y|Great headphones ...|We love these hea...| 2015-08-31|\n",
            "|         US|    6042304|R2DRG0UZXJQ0PE|B00TN4J1TA|     716174627|Anker Aluminum Mu...|        Wireless|          5|            0|          0|   N|                Y|          Five Stars|This is well wort...| 2015-08-31|\n",
            "+-----------+-----------+--------------+----------+--------------+--------------------+----------------+-----------+-------------+-----------+----+-----------------+--------------------+--------------------+-----------+\n",
            "only showing top 20 rows\n",
            "\n"
          ],
          "name": "stdout"
        }
      ]
    },
    {
      "cell_type": "code",
      "metadata": {
        "colab": {
          "base_uri": "https://localhost:8080/"
        },
        "id": "UCzoYoTOlgG6",
        "outputId": "ccb6b3a3-f062-47fa-cc35-dd62eb92e4f6"
      },
      "source": [
        "df.printSchema()"
      ],
      "execution_count": 6,
      "outputs": [
        {
          "output_type": "stream",
          "text": [
            "root\n",
            " |-- marketplace: string (nullable = true)\n",
            " |-- customer_id: integer (nullable = true)\n",
            " |-- review_id: string (nullable = true)\n",
            " |-- product_id: string (nullable = true)\n",
            " |-- product_parent: integer (nullable = true)\n",
            " |-- product_title: string (nullable = true)\n",
            " |-- product_category: string (nullable = true)\n",
            " |-- star_rating: integer (nullable = true)\n",
            " |-- helpful_votes: integer (nullable = true)\n",
            " |-- total_votes: integer (nullable = true)\n",
            " |-- vine: string (nullable = true)\n",
            " |-- verified_purchase: string (nullable = true)\n",
            " |-- review_headline: string (nullable = true)\n",
            " |-- review_body: string (nullable = true)\n",
            " |-- review_date: string (nullable = true)\n",
            "\n"
          ],
          "name": "stdout"
        }
      ]
    },
    {
      "cell_type": "code",
      "metadata": {
        "id": "-iWxdNiPcBMb"
      },
      "source": [
        ""
      ],
      "execution_count": 6,
      "outputs": []
    },
    {
      "cell_type": "code",
      "metadata": {
        "id": "lzMmkdKmY--D",
        "colab": {
          "base_uri": "https://localhost:8080/"
        },
        "outputId": "e8c6fe7c-f49d-4d65-e224-2be85fa48a27"
      },
      "source": [
        "# Create the vine_table. DataFrame\n",
        "\n",
        "vine_table=df.select(['review_id','verified_purchase', 'total_votes','helpful_votes', 'vine','star_rating'])\n",
        "vine_table.show()\n",
        "# vine_df = df.select([])\n"
      ],
      "execution_count": 7,
      "outputs": [
        {
          "output_type": "stream",
          "text": [
            "+--------------+-----------------+-----------+-------------+----+-----------+\n",
            "|     review_id|verified_purchase|total_votes|helpful_votes|vine|star_rating|\n",
            "+--------------+-----------------+-----------+-------------+----+-----------+\n",
            "|R3W4P9UBGNGH1U|                Y|          3|            1|   N|          2|\n",
            "|R15V54KBMTQWAY|                N|          0|            0|   N|          4|\n",
            "| RY8I449HNXSVF|                Y|          0|            0|   N|          5|\n",
            "|R18TLJYCKJFLSR|                Y|          0|            0|   N|          5|\n",
            "|R1NK26SWS53B8Q|                Y|          0|            0|   N|          5|\n",
            "|R11LOHEDYJALTN|                Y|          0|            0|   N|          5|\n",
            "|R3ALQVQB2P9LA7|                Y|          0|            0|   N|          4|\n",
            "|R3MWLXLNO21PDQ|                Y|          0|            0|   N|          5|\n",
            "|R2L15IS24CX0LI|                Y|          0|            0|   N|          5|\n",
            "|R1DJ8976WPWVZU|                Y|          0|            0|   N|          3|\n",
            "|R3MRWNNR8CBTB7|                Y|          0|            0|   N|          5|\n",
            "|R1DS6DKTUXAQK3|                Y|          0|            0|   N|          5|\n",
            "| RWJM5E0TWUJD2|                Y|          0|            0|   N|          5|\n",
            "|R1XTJKDYNCRGAC|                Y|          0|            0|   N|          1|\n",
            "|R2UZL3DPWEU1XW|                Y|          0|            0|   N|          5|\n",
            "|R2EZXET9KBFFU3|                Y|          0|            0|   N|          1|\n",
            "|R26VY1L1FD3LPU|                Y|          0|            0|   N|          5|\n",
            "|R2SSA4NSFCV18T|                N|          0|            0|   N|          5|\n",
            "|R1G6333JHJNEUQ|                Y|          0|            0|   N|          5|\n",
            "|R2DRG0UZXJQ0PE|                Y|          0|            0|   N|          5|\n",
            "+--------------+-----------------+-----------+-------------+----+-----------+\n",
            "only showing top 20 rows\n",
            "\n"
          ],
          "name": "stdout"
        }
      ]
    },
    {
      "cell_type": "code",
      "metadata": {
        "id": "Exuo6ebUsCqW",
        "colab": {
          "base_uri": "https://localhost:8080/"
        },
        "outputId": "9a5b9225-de44-41c3-f100-ff048bb80741"
      },
      "source": [
        "#########Deliverable 2######################\n",
        "###create a new dataframe where the total_votes count is equal to or greater than 20 \n",
        "vine_table_filtered=vine_table.filter(vine_table[\"total_votes\"]>=20)\n",
        "vine_table_filtered.show()\n"
      ],
      "execution_count": 8,
      "outputs": [
        {
          "output_type": "stream",
          "text": [
            "+--------------+-----------------+-----------+-------------+----+-----------+\n",
            "|     review_id|verified_purchase|total_votes|helpful_votes|vine|star_rating|\n",
            "+--------------+-----------------+-----------+-------------+----+-----------+\n",
            "|R2WOW0TURNXB26|                Y|         59|           54|   N|          3|\n",
            "|R13VL62Y2HBQ0B|                Y|         21|           15|   N|          5|\n",
            "|R22G55KAPZKJQV|                Y|         21|           20|   N|          4|\n",
            "|R1610PGTJS7G3N|                Y|         44|           28|   N|          2|\n",
            "| RLQL04BL0QXOJ|                Y|         47|           45|   N|          4|\n",
            "|R2AYJHH8WJNGAU|                Y|        104|           98|   N|          4|\n",
            "|R111DJA10Y6CMU|                Y|         39|           26|   N|          5|\n",
            "|R2EE2TR4MRDV0U|                Y|         59|           53|   N|          5|\n",
            "| RD4A80I5JDHED|                N|         77|           69|   N|          5|\n",
            "|R1GU6IYZQWQE8X|                Y|         25|           24|   N|          2|\n",
            "| RZOPM62JMW97V|                Y|        108|          103|   N|          2|\n",
            "|R21GLR3TD27ISV|                Y|         22|            4|   N|          3|\n",
            "|R1D3NR5GREEXXJ|                Y|         58|           57|   N|          5|\n",
            "|R24BMEHX5EWGEY|                Y|         30|           26|   N|          2|\n",
            "|R2WYKBQS8OR08O|                Y|        176|          168|   N|          5|\n",
            "|R3DL0Y1KWYLD5X|                Y|         37|           36|   N|          5|\n",
            "|R3EGDTFDMCOOG4|                N|         90|           74|   N|          5|\n",
            "|R1MC93W6WG9R3O|                Y|         22|           22|   N|          1|\n",
            "|R35B0B69DYR54L|                Y|         22|           18|   N|          1|\n",
            "|R1593EM56412NH|                Y|         37|           33|   N|          4|\n",
            "+--------------+-----------------+-----------+-------------+----+-----------+\n",
            "only showing top 20 rows\n",
            "\n"
          ],
          "name": "stdout"
        }
      ]
    },
    {
      "cell_type": "code",
      "metadata": {
        "colab": {
          "base_uri": "https://localhost:8080/"
        },
        "id": "lNNDEKTouR2z",
        "outputId": "5f064256-73a6-4468-976c-7b90a25b735f"
      },
      "source": [
        "#### create a new dataframe  where the number of helpful_votes divided by total_votes is equal to or greater than 50%.\n",
        "vine_table_ratio=vine_table_filtered[\"helpful_votes\"]/vine_table_filtered[\"total_votes\"]\n",
        "vine_table_per=vine_table_filtered.filter(vine_table_ratio>=0.5)\n",
        "vine_table_per.show()"
      ],
      "execution_count": 9,
      "outputs": [
        {
          "output_type": "stream",
          "text": [
            "+--------------+-----------------+-----------+-------------+----+-----------+\n",
            "|     review_id|verified_purchase|total_votes|helpful_votes|vine|star_rating|\n",
            "+--------------+-----------------+-----------+-------------+----+-----------+\n",
            "|R2WOW0TURNXB26|                Y|         59|           54|   N|          3|\n",
            "|R13VL62Y2HBQ0B|                Y|         21|           15|   N|          5|\n",
            "|R22G55KAPZKJQV|                Y|         21|           20|   N|          4|\n",
            "|R1610PGTJS7G3N|                Y|         44|           28|   N|          2|\n",
            "| RLQL04BL0QXOJ|                Y|         47|           45|   N|          4|\n",
            "|R2AYJHH8WJNGAU|                Y|        104|           98|   N|          4|\n",
            "|R111DJA10Y6CMU|                Y|         39|           26|   N|          5|\n",
            "|R2EE2TR4MRDV0U|                Y|         59|           53|   N|          5|\n",
            "| RD4A80I5JDHED|                N|         77|           69|   N|          5|\n",
            "|R1GU6IYZQWQE8X|                Y|         25|           24|   N|          2|\n",
            "| RZOPM62JMW97V|                Y|        108|          103|   N|          2|\n",
            "|R1D3NR5GREEXXJ|                Y|         58|           57|   N|          5|\n",
            "|R24BMEHX5EWGEY|                Y|         30|           26|   N|          2|\n",
            "|R2WYKBQS8OR08O|                Y|        176|          168|   N|          5|\n",
            "|R3DL0Y1KWYLD5X|                Y|         37|           36|   N|          5|\n",
            "|R3EGDTFDMCOOG4|                N|         90|           74|   N|          5|\n",
            "|R1MC93W6WG9R3O|                Y|         22|           22|   N|          1|\n",
            "|R35B0B69DYR54L|                Y|         22|           18|   N|          1|\n",
            "|R1593EM56412NH|                Y|         37|           33|   N|          4|\n",
            "|R1KEP1DUJK2LD5|                Y|         42|           34|   N|          5|\n",
            "+--------------+-----------------+-----------+-------------+----+-----------+\n",
            "only showing top 20 rows\n",
            "\n"
          ],
          "name": "stdout"
        }
      ]
    },
    {
      "cell_type": "code",
      "metadata": {
        "colab": {
          "base_uri": "https://localhost:8080/"
        },
        "id": "R84XUp4uwVU8",
        "outputId": "10aee02a-f7dd-457a-b213-5b18e4fe6be3"
      },
      "source": [
        "#### create a new DataFrame or table that retrieves all the rows where a review was written as part of the Vine program (paid)vine == 'Y'\n",
        "vine_review_yes= vine_table_per.filter(vine_table_per[\"vine\"]==\"Y\")\n",
        "vine_review_yes.show()"
      ],
      "execution_count": 10,
      "outputs": [
        {
          "output_type": "stream",
          "text": [
            "+--------------+-----------------+-----------+-------------+----+-----------+\n",
            "|     review_id|verified_purchase|total_votes|helpful_votes|vine|star_rating|\n",
            "+--------------+-----------------+-----------+-------------+----+-----------+\n",
            "|R1MAOLI5FJHAFM|                N|        261|          249|   Y|          4|\n",
            "| R9PYAUDIBJVEC|                N|         22|           12|   Y|          4|\n",
            "| R6V9SHMMG5M8F|                N|        110|          101|   Y|          5|\n",
            "|R37PVLT6ELL5J4|                N|        209|          181|   Y|          4|\n",
            "| R2FSFGWZF24V9|                N|         51|           50|   Y|          4|\n",
            "|R3SRW1E8J56IGV|                N|        281|          262|   Y|          5|\n",
            "| R86Z11D4CWOFM|                N|         36|           32|   Y|          4|\n",
            "| RNP01HW9YISJO|                N|         23|           20|   Y|          4|\n",
            "|R3KLACA6LCDZ0S|                N|         22|           21|   Y|          3|\n",
            "| RZEQYOT2RE0N7|                N|         80|           75|   Y|          4|\n",
            "|R2WBPX441TH495|                N|        221|          202|   Y|          5|\n",
            "|R2BYBSYHS66ZN8|                N|        114|          109|   Y|          5|\n",
            "|R3IF59PJGCNU3Q|                N|         54|           42|   Y|          4|\n",
            "|R2IXC6U7W4OCQ9|                N|        201|          185|   Y|          5|\n",
            "|R1JEI3H9QRP6PH|                N|         22|           15|   Y|          5|\n",
            "|R37L3KGRRR6JTL|                N|         47|           38|   Y|          3|\n",
            "|R1YJ7OKAEML92P|                N|         22|           20|   Y|          5|\n",
            "|R3JZJOD2512UVY|                N|        101|           85|   Y|          4|\n",
            "|R38MY3TK17MXDH|                N|         32|           25|   Y|          4|\n",
            "|R2LWISZ4DSM0I4|                N|         33|           28|   Y|          5|\n",
            "+--------------+-----------------+-----------+-------------+----+-----------+\n",
            "only showing top 20 rows\n",
            "\n"
          ],
          "name": "stdout"
        }
      ]
    },
    {
      "cell_type": "code",
      "metadata": {
        "colab": {
          "base_uri": "https://localhost:8080/"
        },
        "id": "OWP91GZoKa8l",
        "outputId": "836ed4bc-1b75-4f66-ae77-ed4b020d5ba0"
      },
      "source": [
        "# create dataframe or table that retrieve all the rows where the review was not part of the Vine program (unpaid), vine == 'N'.\n",
        "vine_review_no= vine_table_per.filter(vine_table_per[\"vine\"]==\"N\")\n",
        "vine_review_no.show()"
      ],
      "execution_count": 11,
      "outputs": [
        {
          "output_type": "stream",
          "text": [
            "+--------------+-----------------+-----------+-------------+----+-----------+\n",
            "|     review_id|verified_purchase|total_votes|helpful_votes|vine|star_rating|\n",
            "+--------------+-----------------+-----------+-------------+----+-----------+\n",
            "|R2WOW0TURNXB26|                Y|         59|           54|   N|          3|\n",
            "|R13VL62Y2HBQ0B|                Y|         21|           15|   N|          5|\n",
            "|R22G55KAPZKJQV|                Y|         21|           20|   N|          4|\n",
            "|R1610PGTJS7G3N|                Y|         44|           28|   N|          2|\n",
            "| RLQL04BL0QXOJ|                Y|         47|           45|   N|          4|\n",
            "|R2AYJHH8WJNGAU|                Y|        104|           98|   N|          4|\n",
            "|R111DJA10Y6CMU|                Y|         39|           26|   N|          5|\n",
            "|R2EE2TR4MRDV0U|                Y|         59|           53|   N|          5|\n",
            "| RD4A80I5JDHED|                N|         77|           69|   N|          5|\n",
            "|R1GU6IYZQWQE8X|                Y|         25|           24|   N|          2|\n",
            "| RZOPM62JMW97V|                Y|        108|          103|   N|          2|\n",
            "|R1D3NR5GREEXXJ|                Y|         58|           57|   N|          5|\n",
            "|R24BMEHX5EWGEY|                Y|         30|           26|   N|          2|\n",
            "|R2WYKBQS8OR08O|                Y|        176|          168|   N|          5|\n",
            "|R3DL0Y1KWYLD5X|                Y|         37|           36|   N|          5|\n",
            "|R3EGDTFDMCOOG4|                N|         90|           74|   N|          5|\n",
            "|R1MC93W6WG9R3O|                Y|         22|           22|   N|          1|\n",
            "|R35B0B69DYR54L|                Y|         22|           18|   N|          1|\n",
            "|R1593EM56412NH|                Y|         37|           33|   N|          4|\n",
            "|R1KEP1DUJK2LD5|                Y|         42|           34|   N|          5|\n",
            "+--------------+-----------------+-----------+-------------+----+-----------+\n",
            "only showing top 20 rows\n",
            "\n"
          ],
          "name": "stdout"
        }
      ]
    },
    {
      "cell_type": "code",
      "metadata": {
        "colab": {
          "base_uri": "https://localhost:8080/"
        },
        "id": "AdZEdrXWK4BB",
        "outputId": "46450a74-4eed-4b51-aac5-57056aed8053"
      },
      "source": [
        "# total number of reviews\n",
        "total_review_count= vine_table_per.count()\n",
        "total_review_count"
      ],
      "execution_count": 12,
      "outputs": [
        {
          "output_type": "execute_result",
          "data": {
            "text/plain": [
              "65581"
            ]
          },
          "metadata": {
            "tags": []
          },
          "execution_count": 12
        }
      ]
    },
    {
      "cell_type": "code",
      "metadata": {
        "colab": {
          "base_uri": "https://localhost:8080/"
        },
        "id": "KQvuG_f6Rn2z",
        "outputId": "cf616bb5-f0b8-4622-c7ac-92f22f2b728b"
      },
      "source": [
        "#the number of 5-star reviews\n",
        "number_5star_review=vine_table_per.filter(vine_table_per[\"star_rating\"]==5).count()\n",
        "number_5star_review"
      ],
      "execution_count": 13,
      "outputs": [
        {
          "output_type": "execute_result",
          "data": {
            "text/plain": [
              "30765"
            ]
          },
          "metadata": {
            "tags": []
          },
          "execution_count": 13
        }
      ]
    },
    {
      "cell_type": "code",
      "metadata": {
        "colab": {
          "base_uri": "https://localhost:8080/"
        },
        "id": "6byFevYYTXpy",
        "outputId": "6cb10eb1-70eb-49b4-b785-c6853db6b5eb"
      },
      "source": [
        "vine_review_paid=vine_review_yes\n",
        "\n",
        "vine_review_paid.show()"
      ],
      "execution_count": 14,
      "outputs": [
        {
          "output_type": "stream",
          "text": [
            "+--------------+-----------------+-----------+-------------+----+-----------+\n",
            "|     review_id|verified_purchase|total_votes|helpful_votes|vine|star_rating|\n",
            "+--------------+-----------------+-----------+-------------+----+-----------+\n",
            "|R1MAOLI5FJHAFM|                N|        261|          249|   Y|          4|\n",
            "| R9PYAUDIBJVEC|                N|         22|           12|   Y|          4|\n",
            "| R6V9SHMMG5M8F|                N|        110|          101|   Y|          5|\n",
            "|R37PVLT6ELL5J4|                N|        209|          181|   Y|          4|\n",
            "| R2FSFGWZF24V9|                N|         51|           50|   Y|          4|\n",
            "|R3SRW1E8J56IGV|                N|        281|          262|   Y|          5|\n",
            "| R86Z11D4CWOFM|                N|         36|           32|   Y|          4|\n",
            "| RNP01HW9YISJO|                N|         23|           20|   Y|          4|\n",
            "|R3KLACA6LCDZ0S|                N|         22|           21|   Y|          3|\n",
            "| RZEQYOT2RE0N7|                N|         80|           75|   Y|          4|\n",
            "|R2WBPX441TH495|                N|        221|          202|   Y|          5|\n",
            "|R2BYBSYHS66ZN8|                N|        114|          109|   Y|          5|\n",
            "|R3IF59PJGCNU3Q|                N|         54|           42|   Y|          4|\n",
            "|R2IXC6U7W4OCQ9|                N|        201|          185|   Y|          5|\n",
            "|R1JEI3H9QRP6PH|                N|         22|           15|   Y|          5|\n",
            "|R37L3KGRRR6JTL|                N|         47|           38|   Y|          3|\n",
            "|R1YJ7OKAEML92P|                N|         22|           20|   Y|          5|\n",
            "|R3JZJOD2512UVY|                N|        101|           85|   Y|          4|\n",
            "|R38MY3TK17MXDH|                N|         32|           25|   Y|          4|\n",
            "|R2LWISZ4DSM0I4|                N|         33|           28|   Y|          5|\n",
            "+--------------+-----------------+-----------+-------------+----+-----------+\n",
            "only showing top 20 rows\n",
            "\n"
          ],
          "name": "stdout"
        }
      ]
    },
    {
      "cell_type": "code",
      "metadata": {
        "colab": {
          "base_uri": "https://localhost:8080/"
        },
        "id": "hwhhoasoSEbl",
        "outputId": "90309242-2c0c-474a-a568-e59b3e86d18f"
      },
      "source": [
        "\n",
        "#the number of 5-star reviews for the paid reviews\n",
        "\n",
        "\n",
        "review_paid_count=vine_review_paid.filter(vine_review_paid[\"star_rating\"]==5).count()\n",
        "review_paid_count"
      ],
      "execution_count": 15,
      "outputs": [
        {
          "output_type": "execute_result",
          "data": {
            "text/plain": [
              "222"
            ]
          },
          "metadata": {
            "tags": []
          },
          "execution_count": 15
        }
      ]
    },
    {
      "cell_type": "code",
      "metadata": {
        "id": "t5ukhS1lXpvx"
      },
      "source": [
        "vine_review_unpaid=vine_review_no"
      ],
      "execution_count": 16,
      "outputs": []
    },
    {
      "cell_type": "code",
      "metadata": {
        "colab": {
          "base_uri": "https://localhost:8080/"
        },
        "id": "lKwc80QgYKg8",
        "outputId": "d23c6342-2f2b-469c-f3af-c5dc48fc6e11"
      },
      "source": [
        "#the number of 5-star reviews for the unpaid reviews\n",
        "review_unpaid_count=vine_review_unpaid.filter(vine_review_unpaid[\"star_rating\"]==5).count()\n",
        "review_unpaid_count"
      ],
      "execution_count": 17,
      "outputs": [
        {
          "output_type": "execute_result",
          "data": {
            "text/plain": [
              "30543"
            ]
          },
          "metadata": {
            "tags": []
          },
          "execution_count": 17
        }
      ]
    },
    {
      "cell_type": "code",
      "metadata": {
        "colab": {
          "base_uri": "https://localhost:8080/"
        },
        "id": "yJUfrRCWYn96",
        "outputId": "9b7e2e53-a370-4d41-c934-0393e5c5f1b6"
      },
      "source": [
        "#the percentage of 5-star reviews for the paid reviews\n",
        "total_paid_review=vine_review_yes.count()\n",
        "percentage_paid_review=(review_paid_count/total_paid_review)*100\n",
        "percentage_paid_review\n"
      ],
      "execution_count": 20,
      "outputs": [
        {
          "output_type": "execute_result",
          "data": {
            "text/plain": [
              "36.215334420880914"
            ]
          },
          "metadata": {
            "tags": []
          },
          "execution_count": 20
        }
      ]
    },
    {
      "cell_type": "code",
      "metadata": {
        "colab": {
          "base_uri": "https://localhost:8080/"
        },
        "id": "cAHLx89IYtm8",
        "outputId": "e4034989-5986-4c46-930a-0198da9dbbd4"
      },
      "source": [
        "#the percentage of 5-star reviews for the unpaid reviews\n",
        "total_unpaid_review=vine_review_no.count()\n",
        "percentage_unpaid_review=(review_unpaid_count/total_unpaid_review)*100\n",
        "percentage_unpaid_review\n"
      ],
      "execution_count": 21,
      "outputs": [
        {
          "output_type": "execute_result",
          "data": {
            "text/plain": [
              "47.01237532323606"
            ]
          },
          "metadata": {
            "tags": []
          },
          "execution_count": 21
        }
      ]
    },
    {
      "cell_type": "code",
      "metadata": {
        "colab": {
          "base_uri": "https://localhost:8080/"
        },
        "id": "wad_yFnumdZ5",
        "outputId": "1dd47d21-aca9-4090-9649-919e99b13e00"
      },
      "source": [
        "#How many Vine reviews and non-Vine reviews were there?   paid\n",
        "total_paid_review"
      ],
      "execution_count": 22,
      "outputs": [
        {
          "output_type": "execute_result",
          "data": {
            "text/plain": [
              "613"
            ]
          },
          "metadata": {
            "tags": []
          },
          "execution_count": 22
        }
      ]
    },
    {
      "cell_type": "code",
      "metadata": {
        "colab": {
          "base_uri": "https://localhost:8080/"
        },
        "id": "uWCOfEg8mo1E",
        "outputId": "9ce6e3ae-908b-49af-92af-b110158762c8"
      },
      "source": [
        "#How many Vine reviews and non-Vine reviews were there?   unpaid\n",
        "total_unpaid_review"
      ],
      "execution_count": 23,
      "outputs": [
        {
          "output_type": "execute_result",
          "data": {
            "text/plain": [
              "64968"
            ]
          },
          "metadata": {
            "tags": []
          },
          "execution_count": 23
        }
      ]
    },
    {
      "cell_type": "code",
      "metadata": {
        "colab": {
          "base_uri": "https://localhost:8080/"
        },
        "id": "HluokZxUm0cx",
        "outputId": "45d21a9e-2a0e-4322-9ef1-16ddfa5f5cb3"
      },
      "source": [
        "#How many Vine reviews were 5 stars? How many non-Vine reviews were 5 stars? PAID\n",
        "review_paid_count"
      ],
      "execution_count": 24,
      "outputs": [
        {
          "output_type": "execute_result",
          "data": {
            "text/plain": [
              "222"
            ]
          },
          "metadata": {
            "tags": []
          },
          "execution_count": 24
        }
      ]
    },
    {
      "cell_type": "code",
      "metadata": {
        "colab": {
          "base_uri": "https://localhost:8080/"
        },
        "id": "ykIbhd6cm_G8",
        "outputId": "c4158313-0805-476c-e155-e3ad3eb88898"
      },
      "source": [
        "#How many Vine reviews were 5 stars? How many non-Vine reviews were 5 stars? UNPAID\n",
        "review_unpaid_count"
      ],
      "execution_count": 25,
      "outputs": [
        {
          "output_type": "execute_result",
          "data": {
            "text/plain": [
              "30543"
            ]
          },
          "metadata": {
            "tags": []
          },
          "execution_count": 25
        }
      ]
    }
  ]
}